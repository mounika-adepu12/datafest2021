{
 "cells": [
  {
   "cell_type": "markdown",
   "metadata": {},
   "source": [
    "### Data Cleaning"
   ]
  },
  {
   "cell_type": "code",
   "execution_count": 45,
   "metadata": {},
   "outputs": [],
   "source": [
    "import pandas as pd\n",
    "import numpy as np"
   ]
  },
  {
   "cell_type": "code",
   "execution_count": 46,
   "metadata": {},
   "outputs": [],
   "source": [
    "df = pd.read_csv(\"/Users/janezhang/Documents/Duke/datafest2021/df_data/US/us_19.csv\")"
   ]
  },
  {
   "cell_type": "markdown",
   "metadata": {},
   "source": [
    "### Get list of response variables"
   ]
  },
  {
   "cell_type": "code",
   "execution_count": 47,
   "metadata": {},
   "outputs": [],
   "source": [
    "categories = [\"USE\", \"USEYR\",\"NMU\", \"NMUYR\"]\n",
    "prescript = [\"PAINREL\", \"STIM\", \"SED\", \"THC\", \"OP\"]"
   ]
  },
  {
   "cell_type": "code",
   "execution_count": 48,
   "metadata": {},
   "outputs": [],
   "source": [
    "response_var = [\"DEM_GENHEALTH\",'DEM_HEALTH']\n",
    "\n",
    "for p in prescript:\n",
    "    for c in categories:\n",
    "        response_var.append(p+\"_\"+c)"
   ]
  },
  {
   "cell_type": "code",
   "execution_count": 49,
   "metadata": {},
   "outputs": [],
   "source": [
    "predict_var = ['DEM_GENDER',\n",
    "               'DEM_REGION',\n",
    "               'DEM_AGE',\n",
    "               'DEM_VET',\n",
    "               'DEM_STDNT',\n",
    "               'DEM_EDU',\n",
    "               'DEM_PREG',\n",
    "               'DEM_MARITAL',\n",
    "               'DEM_RACE',\n",
    "              'DEM_EMPLOY',\n",
    "              'DEM_INSUR',\n",
    "              'DEM_HOPSTAY',\n",
    "              'DEM_INCOME',\n",
    "              'PAIN_CHRONIC',\n",
    "              'PAIN_ACUTE',\n",
    "              'DAST_10']"
   ]
  },
  {
   "cell_type": "code",
   "execution_count": 50,
   "metadata": {},
   "outputs": [],
   "source": [
    "cols = []\n",
    "\n",
    "for c in df.columns:\n",
    "    for x in predict_var:\n",
    "        if x in c:\n",
    "            cols.append(c)\n",
    "    if c in response_var:\n",
    "        cols.append(c)"
   ]
  },
  {
   "cell_type": "code",
   "execution_count": 51,
   "metadata": {},
   "outputs": [
    {
     "data": {
      "text/plain": [
       "['DEM_GENDER',\n",
       " 'DEM_AGE',\n",
       " 'DEM_REGION',\n",
       " 'DEM_INCOME',\n",
       " 'DEM_GENHEALTH',\n",
       " 'DAST_10',\n",
       " 'PAIN_CHRONICYR',\n",
       " 'PAIN_CHRONICYR_DOC',\n",
       " 'PAIN_CHRONICYR_RX',\n",
       " 'PAIN_ACUTEYR',\n",
       " 'PAIN_ACUTEYR_DOC',\n",
       " 'PAIN_ACUTEYR_RX',\n",
       " 'DEM_RACE_AIAN',\n",
       " 'DEM_RACE_ASIAN',\n",
       " 'DEM_RACE_BLACK',\n",
       " 'DEM_RACE_NHPI',\n",
       " 'DEM_RACE_WHITE',\n",
       " 'DEM_RACE_OTH',\n",
       " 'DEM_MARITAL',\n",
       " 'DEM_PREG',\n",
       " 'DEM_PREG_WK',\n",
       " 'DEM_EDU',\n",
       " 'DEM_STDNT',\n",
       " 'DEM_STDNT_PROGRAM',\n",
       " 'DEM_STDNT_UNDER',\n",
       " 'DEM_VET',\n",
       " 'DEM_VET_SERV',\n",
       " 'DEM_HEALTH',\n",
       " 'DEM_EMPLOY',\n",
       " 'DEM_INSUR',\n",
       " 'DEM_AGE10',\n",
       " 'PAINREL_USE',\n",
       " 'PAINREL_USEYR',\n",
       " 'PAINREL_NMU',\n",
       " 'PAINREL_NMUYR',\n",
       " 'SED_USE',\n",
       " 'SED_USEYR',\n",
       " 'SED_NMU',\n",
       " 'SED_NMUYR',\n",
       " 'STIM_USE',\n",
       " 'STIM_USEYR',\n",
       " 'STIM_NMU',\n",
       " 'STIM_NMUYR',\n",
       " 'THC_USE',\n",
       " 'THC_USEYR',\n",
       " 'THC_NMU',\n",
       " 'THC_NMUYR',\n",
       " 'OP_USE',\n",
       " 'OP_USEYR',\n",
       " 'OP_NMU',\n",
       " 'OP_NMUYR']"
      ]
     },
     "execution_count": 51,
     "metadata": {},
     "output_type": "execute_result"
    }
   ],
   "source": [
    "cols"
   ]
  },
  {
   "cell_type": "code",
   "execution_count": 52,
   "metadata": {},
   "outputs": [],
   "source": [
    "df_clean = df[cols]"
   ]
  },
  {
   "cell_type": "markdown",
   "metadata": {},
   "source": [
    "### Merge cols with the same prefix"
   ]
  },
  {
   "cell_type": "code",
   "execution_count": null,
   "metadata": {},
   "outputs": [],
   "source": [
    "cols_merge = [\"DEM_RACE\",\"DEM_HEALTH\"]"
   ]
  }
 ],
 "metadata": {
  "kernelspec": {
   "display_name": "Python 3",
   "language": "python",
   "name": "python3"
  },
  "language_info": {
   "codemirror_mode": {
    "name": "ipython",
    "version": 3
   },
   "file_extension": ".py",
   "mimetype": "text/x-python",
   "name": "python",
   "nbconvert_exporter": "python",
   "pygments_lexer": "ipython3",
   "version": "3.7.3"
  }
 },
 "nbformat": 4,
 "nbformat_minor": 4
}
